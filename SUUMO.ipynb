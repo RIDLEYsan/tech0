{
 "cells": [
  {
   "cell_type": "code",
   "execution_count": 604,
   "metadata": {},
   "outputs": [],
   "source": [
    "#まずは今回使うrequestsとBeautifulSoupをインポートします。\n",
    "import requests\n",
    "from bs4 import BeautifulSoup\n",
    "import pandas as pd\n"
   ]
  },
  {
   "cell_type": "code",
   "execution_count": 605,
   "metadata": {},
   "outputs": [],
   "source": [
    "REQUEST_URL = \"https://suumo.jp/jj/chintai/ichiran/FR301FC005/?ar=030&bs=040&ta=13&sc=13101&cb=0.0&ct=9999999&mb=0&mt=9999999&et=9999999&cn=9999999&shkr1=03&shkr2=03&shkr3=03&shkr4=03&sngz=&po1=25&po2=99&pc=100\"\n",
    "#東京都千代田区の賃貸住宅[賃貸マンション・アパート]情報 検索結果<部屋ごとに表示> 表示件数100件\n",
    "\n",
    "html = requests.get(REQUEST_URL)\n",
    "soup = BeautifulSoup(html.content, \"html.parser\")\n"
   ]
  },
  {
   "cell_type": "code",
   "execution_count": 606,
   "metadata": {},
   "outputs": [
    {
     "data": {
      "text/plain": [
       "152"
      ]
     },
     "execution_count": 606,
     "metadata": {},
     "output_type": "execute_result"
    }
   ],
   "source": [
    "#検索結果のページ数を取得する（ページ数でリンクを取得） １ページ、２〜５ページ、６ページ以上で場合分けが必要？\n",
    "# ２ページ以上だと同じで大丈夫？\n",
    "\n",
    "next_page = soup.find('p', class_=\"pagination-parts\") #次へ　の部分を抽出一つだけのようなのでこれで。。。\n",
    "try:\n",
    "  next_page = next_page.find_previous('li') #'次へ'の前のliを抽出\n",
    "  next_page = next_page.text #text部分を抽出\n",
    "  pages = int(next_page)\n",
    "except:\n",
    "  pages = 1\n",
    "\n",
    "pages\n"
   ]
  },
  {
   "cell_type": "code",
   "execution_count": 609,
   "metadata": {},
   "outputs": [],
   "source": [
    "#多すぎるので便宜的にpagesを10とする\n",
    "\n",
    "pages = 10\n"
   ]
  },
  {
   "cell_type": "code",
   "execution_count": 619,
   "metadata": {},
   "outputs": [
    {
     "data": {
      "text/html": [
       "<div>\n",
       "<style scoped>\n",
       "    .dataframe tbody tr th:only-of-type {\n",
       "        vertical-align: middle;\n",
       "    }\n",
       "\n",
       "    .dataframe tbody tr th {\n",
       "        vertical-align: top;\n",
       "    }\n",
       "\n",
       "    .dataframe thead th {\n",
       "        text-align: right;\n",
       "    }\n",
       "</style>\n",
       "<table border=\"1\" class=\"dataframe\">\n",
       "  <thead>\n",
       "    <tr style=\"text-align: right;\">\n",
       "      <th></th>\n",
       "      <th>物件名</th>\n",
       "      <th>家賃</th>\n",
       "      <th>住所</th>\n",
       "      <th>階</th>\n",
       "      <th>間取り</th>\n",
       "    </tr>\n",
       "  </thead>\n",
       "  <tbody>\n",
       "    <tr>\n",
       "      <th>0</th>\n",
       "      <td>ブライズ神田岩本町 1502号室</td>\n",
       "      <td>224000.0</td>\n",
       "      <td>東京都千代田区岩本町２</td>\n",
       "      <td>15.0</td>\n",
       "      <td>2LDK</td>\n",
       "    </tr>\n",
       "    <tr>\n",
       "      <th>1</th>\n",
       "      <td>ＫＷレジデンス麹町</td>\n",
       "      <td>532000.0</td>\n",
       "      <td>東京都千代田区麹町３</td>\n",
       "      <td>10.0</td>\n",
       "      <td>2LDK</td>\n",
       "    </tr>\n",
       "    <tr>\n",
       "      <th>2</th>\n",
       "      <td>ザ・パークハウス麹町テラス 701号室</td>\n",
       "      <td>350000.0</td>\n",
       "      <td>東京都千代田区麹町３</td>\n",
       "      <td>7.0</td>\n",
       "      <td>2LDK</td>\n",
       "    </tr>\n",
       "    <tr>\n",
       "      <th>3</th>\n",
       "      <td>ザ・パークハウス麹町テラス 701号室</td>\n",
       "      <td>350000.0</td>\n",
       "      <td>東京都千代田区麹町３</td>\n",
       "      <td>7.0</td>\n",
       "      <td>2LDK</td>\n",
       "    </tr>\n",
       "    <tr>\n",
       "      <th>4</th>\n",
       "      <td>ザ・パークハウス麹町テラス 701号室</td>\n",
       "      <td>350000.0</td>\n",
       "      <td>東京都千代田区麹町３</td>\n",
       "      <td>7.0</td>\n",
       "      <td>2LDK</td>\n",
       "    </tr>\n",
       "    <tr>\n",
       "      <th>...</th>\n",
       "      <td>...</td>\n",
       "      <td>...</td>\n",
       "      <td>...</td>\n",
       "      <td>...</td>\n",
       "      <td>...</td>\n",
       "    </tr>\n",
       "    <tr>\n",
       "      <th>995</th>\n",
       "      <td>ＫＷレジデンス麹町</td>\n",
       "      <td>162000.0</td>\n",
       "      <td>東京都千代田区麹町３</td>\n",
       "      <td>6.0</td>\n",
       "      <td>1K</td>\n",
       "    </tr>\n",
       "    <tr>\n",
       "      <th>996</th>\n",
       "      <td>グランクオール秋葉原</td>\n",
       "      <td>90000.0</td>\n",
       "      <td>東京都千代田区神田佐久間町３</td>\n",
       "      <td>3.0</td>\n",
       "      <td>1K</td>\n",
       "    </tr>\n",
       "    <tr>\n",
       "      <th>997</th>\n",
       "      <td>ＪＲ山手線 秋葉原駅 4階建 築3年</td>\n",
       "      <td>90000.0</td>\n",
       "      <td>東京都千代田区神田佐久間町３</td>\n",
       "      <td>3.0</td>\n",
       "      <td>1K</td>\n",
       "    </tr>\n",
       "    <tr>\n",
       "      <th>998</th>\n",
       "      <td>ＪＲ山手線 秋葉原駅 3階建 築3年</td>\n",
       "      <td>90000.0</td>\n",
       "      <td>東京都千代田区神田佐久間町３</td>\n",
       "      <td>3.0</td>\n",
       "      <td>1K</td>\n",
       "    </tr>\n",
       "    <tr>\n",
       "      <th>999</th>\n",
       "      <td>ＪＲ総武線快速 馬喰町駅 8階建 築19年</td>\n",
       "      <td>102000.0</td>\n",
       "      <td>東京都千代田区岩本町１</td>\n",
       "      <td>7.0</td>\n",
       "      <td>1K</td>\n",
       "    </tr>\n",
       "  </tbody>\n",
       "</table>\n",
       "<p>1000 rows × 5 columns</p>\n",
       "</div>"
      ],
      "text/plain": [
       "                       物件名        家賃              住所     階   間取り\n",
       "0         ブライズ神田岩本町 1502号室  224000.0     東京都千代田区岩本町２  15.0  2LDK\n",
       "1                ＫＷレジデンス麹町  532000.0      東京都千代田区麹町３  10.0  2LDK\n",
       "2      ザ・パークハウス麹町テラス 701号室  350000.0      東京都千代田区麹町３   7.0  2LDK\n",
       "3      ザ・パークハウス麹町テラス 701号室  350000.0      東京都千代田区麹町３   7.0  2LDK\n",
       "4      ザ・パークハウス麹町テラス 701号室  350000.0      東京都千代田区麹町３   7.0  2LDK\n",
       "..                     ...       ...             ...   ...   ...\n",
       "995              ＫＷレジデンス麹町  162000.0      東京都千代田区麹町３   6.0    1K\n",
       "996             グランクオール秋葉原   90000.0  東京都千代田区神田佐久間町３   3.0    1K\n",
       "997     ＪＲ山手線 秋葉原駅 4階建 築3年   90000.0  東京都千代田区神田佐久間町３   3.0    1K\n",
       "998     ＪＲ山手線 秋葉原駅 3階建 築3年   90000.0  東京都千代田区神田佐久間町３   3.0    1K\n",
       "999  ＪＲ総武線快速 馬喰町駅 8階建 築19年  102000.0     東京都千代田区岩本町１   7.0    1K\n",
       "\n",
       "[1000 rows x 5 columns]"
      ]
     },
     "execution_count": 619,
     "metadata": {},
     "output_type": "execute_result"
    }
   ],
   "source": [
    "property_info_list = []  # 情報を入れるリストを作成\n",
    "\n",
    "for page in range(1, pages + 1):  #検索結果のページごとにデータを収集する\n",
    "    request_url2 = REQUEST_URL + \"&page=\" + str(page) #検索結果のページの後に追加することで別のページになる\n",
    "\n",
    "    htmls = requests.get(request_url2)\n",
    "    soup2 = BeautifulSoup(htmls.content, \"html.parser\")\n",
    "\n",
    "    detail_links = soup2.find_all('a', class_=\"js-cassetLinkHref\") #各物件の詳細情報の記載ページのリンクを取得する\n",
    "\n",
    "    detail_urls = []\n",
    "\n",
    "    for href_tag in detail_links:\n",
    "        link = href_tag.get('href')\n",
    "        link = 'https://suumo.jp' + link  # 欠けているので追加\n",
    "        detail_urls.append(link)\n",
    "\n",
    "    # 詳細情報（住所、間取り、階数）を取得する\n",
    "    detail_data = []\n",
    "\n",
    "    for detail_url in detail_urls:\n",
    "        url = requests.get(detail_url)\n",
    "        soup3 = BeautifulSoup(url.content, \"html.parser\")\n",
    "\n",
    "        # やっぱりこのページから物件名も取得することにしました\n",
    "        property_element = soup3.select_one('h1.section_h1-header-title')  # h1\n",
    "        property_name = None\n",
    "\n",
    "        if property_element:\n",
    "            property_text = property_element.text.strip()\n",
    "            pos1 = property_text.find(' - ')  # 区切りのハイフンなどを目印にして抽出\n",
    "            property_name = property_text[:pos1]\n",
    "\n",
    "        # 家賃についても同様に。\n",
    "        rent_number = None\n",
    "\n",
    "        rent = soup3.find_all('div', class_=\"property_view_main-emphasis\")  # 全く絞れないので、万円を含んでいるものだけを抽出する\n",
    "        for div_tag in rent:\n",
    "            rent_number = div_tag.text.strip()\n",
    "            if \"万円\" in rent_number:\n",
    "                rent_number = rent_number.replace('万円', '')  # 万円を削除\n",
    "                rent_number = int(float(rent_number) * 10000)  # 単位を円にする。小数点がついているのでfloat、からのint\n",
    "\n",
    "        # 物件の詳細ページから階数を取得 下にある表から取得\n",
    "        floor_number = None\n",
    "        try:\n",
    "          floor_tags = soup3.find_all('th', class_=\"data_01\", string=\"階建\")  # thのdata_01クラス,stringで指定\n",
    "\n",
    "          if floor_tags:\n",
    "              for th_tag in floor_tags:\n",
    "                  next_td = th_tag.find_next('td')\n",
    "                  if next_td:\n",
    "                      floor_number_text = next_td.text.strip()\n",
    "                      pos = floor_number_text.find('階/')\n",
    "                      floor_number_text = floor_number_text[:pos]\n",
    "                      floor_number = int(floor_number_text)  # int型に変える\n",
    "        except:     # 戸建ての賃貸で複数階の物件でエラーが出たので、intにしないでそのまま入れることに\n",
    "          floor_tags = soup3.find_all('th', class_=\"data_01\", string=\"階建\")  # thのdata_01クラス,stringで指定\n",
    "\n",
    "          if floor_tags:\n",
    "              for th_tag in floor_tags:\n",
    "                  next_td = th_tag.find_next('td')\n",
    "                  if next_td:\n",
    "                      floor_number_text = next_td.text.strip()\n",
    "                      pos = floor_number_text.find('階/')\n",
    "                      floor_number_text = floor_number_text[:pos]\n",
    "          pass\n",
    "\n",
    "        # 住所を取得\n",
    "        location = None\n",
    "        location = soup3.find_all('span', class_=\"property_view_detail-header-title\")\n",
    "\n",
    "        for div_tag in location:\n",
    "            if div_tag.text.strip() == \"所在地\":  # classだけでは絞れなかった\n",
    "                next_div = div_tag.find_next('div')\n",
    "                if next_div:\n",
    "                    location = next_div.text.strip()\n",
    "                    break\n",
    "\n",
    "        # 間取り\n",
    "        floor_plan = None\n",
    "        floor_plan = soup3.find_all('div', class_=\"property_data-title\")\n",
    "\n",
    "        for div_tag2 in floor_plan:\n",
    "            if div_tag2.text.strip() == \"間取り\":  # classだけでは絞れなかった\n",
    "                next_div2 = div_tag2.find_next('div')\n",
    "                if next_div2:\n",
    "                    floor_plan = next_div2.text.strip()\n",
    "                    break\n",
    "\n",
    "        detail_info = {\n",
    "            \"物件名\": property_name,\n",
    "            \"家賃\": rent_number,\n",
    "            \"住所\": location,\n",
    "            \"階\": floor_number,\n",
    "            \"間取り\": floor_plan,\n",
    "        }\n",
    "\n",
    "        property_info_list.append(detail_info)\n",
    "\n",
    "df_property_info = pd.DataFrame(property_info_list)\n",
    "\n",
    "df_property_info\n"
   ]
  },
  {
   "cell_type": "code",
   "execution_count": null,
   "metadata": {},
   "outputs": [],
   "source": []
  },
  {
   "cell_type": "code",
   "execution_count": null,
   "metadata": {},
   "outputs": [],
   "source": []
  },
  {
   "cell_type": "code",
   "execution_count": 616,
   "metadata": {},
   "outputs": [],
   "source": [
    "df_property_info.to_csv(\"suumo_sample.csv\")\n"
   ]
  },
  {
   "cell_type": "markdown",
   "metadata": {},
   "source": [
    "以下検討の残骸"
   ]
  },
  {
   "cell_type": "markdown",
   "metadata": {},
   "source": []
  },
  {
   "cell_type": "markdown",
   "metadata": {},
   "source": []
  },
  {
   "cell_type": "code",
   "execution_count": 519,
   "metadata": {},
   "outputs": [],
   "source": [
    "\n",
    "\n",
    "request_url2 = \"https://suumo.jp/jj/chintai/ichiran/FR301FC005/?ar=030&bs=040&ta=13&sc=13101&cb=0.0&ct=9999999&mb=0&mt=9999999&et=9999999&cn=9999999&shkr1=03&shkr2=03&shkr3=03&shkr4=03&sngz=&po1=25&po2=99&pc=100\"\n",
    "\n",
    "htmls = requests.get(request_url2)\n",
    "soup2 = BeautifulSoup(htmls.content, \"html.parser\")\n"
   ]
  },
  {
   "cell_type": "code",
   "execution_count": null,
   "metadata": {},
   "outputs": [],
   "source": [
    "#物件名と詳細情報リンクの表示されている部分を抽出\n",
    "property = soup2.find_all('a', class_=\"js-cassetLinkHref\")\n",
    "\n",
    "#物件名を取得。文字がリンクに使われているのでそのテキストを取得し格納\n",
    "\n",
    "property_texts = []\n",
    "\n",
    "for a_tag in property:\n",
    "    property_texts.append(a_tag.text.strip())\n",
    "\n",
    "property_texts\n"
   ]
  },
  {
   "cell_type": "code",
   "execution_count": null,
   "metadata": {},
   "outputs": [],
   "source": []
  },
  {
   "cell_type": "code",
   "execution_count": null,
   "metadata": {},
   "outputs": [],
   "source": [
    "#’詳細を見る’のURLを取得する\n",
    "\n",
    "property = soup2.find_all('a', class_=\"js-cassetLinkHref\")\n",
    "\n",
    "property\n"
   ]
  },
  {
   "cell_type": "code",
   "execution_count": 596,
   "metadata": {},
   "outputs": [
    {
     "data": {
      "text/plain": [
       "['https://suumo.jp/chintai/bc_100355778748/',\n",
       " 'https://suumo.jp/chintai/bc_100355773975/',\n",
       " 'https://suumo.jp/chintai/bc_100355909050/',\n",
       " 'https://suumo.jp/chintai/bc_100355923442/',\n",
       " 'https://suumo.jp/chintai/bc_100355909048/',\n",
       " 'https://suumo.jp/chintai/bc_100355923443/',\n",
       " 'https://suumo.jp/chintai/bc_100355923727/',\n",
       " 'https://suumo.jp/chintai/bc_100355734599/',\n",
       " 'https://suumo.jp/chintai/bc_100355769509/',\n",
       " 'https://suumo.jp/chintai/bc_100355772583/',\n",
       " 'https://suumo.jp/chintai/bc_100355772578/',\n",
       " 'https://suumo.jp/chintai/bc_100355769027/',\n",
       " 'https://suumo.jp/chintai/bc_100338052690/',\n",
       " 'https://suumo.jp/chintai/bc_100341277227/',\n",
       " 'https://suumo.jp/chintai/bc_100355819183/',\n",
       " 'https://suumo.jp/chintai/bc_100355774023/',\n",
       " 'https://suumo.jp/chintai/bc_100355767881/',\n",
       " 'https://suumo.jp/chintai/bc_100355811612/',\n",
       " 'https://suumo.jp/chintai/bc_100355807708/',\n",
       " 'https://suumo.jp/chintai/bc_100355886793/',\n",
       " 'https://suumo.jp/chintai/bc_100355767866/',\n",
       " 'https://suumo.jp/chintai/bc_100355772467/',\n",
       " 'https://suumo.jp/chintai/bc_100355769512/',\n",
       " 'https://suumo.jp/chintai/bc_100355769174/',\n",
       " 'https://suumo.jp/chintai/bc_100355769535/',\n",
       " 'https://suumo.jp/chintai/bc_100355772551/',\n",
       " 'https://suumo.jp/chintai/bc_100355772518/',\n",
       " 'https://suumo.jp/chintai/bc_100355772553/',\n",
       " 'https://suumo.jp/chintai/bc_100355772463/',\n",
       " 'https://suumo.jp/chintai/bc_100355772464/',\n",
       " 'https://suumo.jp/chintai/bc_100355772555/',\n",
       " 'https://suumo.jp/chintai/bc_100355755128/',\n",
       " 'https://suumo.jp/chintai/bc_100355949050/',\n",
       " 'https://suumo.jp/chintai/bc_100355741170/',\n",
       " 'https://suumo.jp/chintai/bc_100355775626/',\n",
       " 'https://suumo.jp/chintai/bc_100355773962/',\n",
       " 'https://suumo.jp/chintai/bc_100355927998/',\n",
       " 'https://suumo.jp/chintai/bc_100347118384/',\n",
       " 'https://suumo.jp/chintai/bc_100347118379/',\n",
       " 'https://suumo.jp/chintai/bc_100355928001/',\n",
       " 'https://suumo.jp/chintai/bc_100355927991/',\n",
       " 'https://suumo.jp/chintai/bc_100355949059/',\n",
       " 'https://suumo.jp/chintai/bc_100355773973/',\n",
       " 'https://suumo.jp/chintai/bc_100355773924/',\n",
       " 'https://suumo.jp/chintai/bc_100355774015/',\n",
       " 'https://suumo.jp/chintai/bc_100355774024/',\n",
       " 'https://suumo.jp/chintai/bc_100355774043/',\n",
       " 'https://suumo.jp/chintai/bc_100355774019/',\n",
       " 'https://suumo.jp/chintai/bc_100355773963/',\n",
       " 'https://suumo.jp/chintai/bc_100355773849/',\n",
       " 'https://suumo.jp/chintai/bc_100355774069/',\n",
       " 'https://suumo.jp/chintai/bc_100355773838/',\n",
       " 'https://suumo.jp/chintai/bc_100355774033/',\n",
       " 'https://suumo.jp/chintai/bc_100355773860/',\n",
       " 'https://suumo.jp/chintai/bc_100355773898/',\n",
       " 'https://suumo.jp/chintai/bc_100355773967/',\n",
       " 'https://suumo.jp/chintai/bc_100355773957/',\n",
       " 'https://suumo.jp/chintai/bc_100355773931/',\n",
       " 'https://suumo.jp/chintai/bc_100355932464/',\n",
       " 'https://suumo.jp/chintai/bc_100355932607/',\n",
       " 'https://suumo.jp/chintai/bc_100355932481/',\n",
       " 'https://suumo.jp/chintai/bc_100355773887/',\n",
       " 'https://suumo.jp/chintai/bc_100355774009/',\n",
       " 'https://suumo.jp/chintai/bc_100355734601/',\n",
       " 'https://suumo.jp/chintai/bc_100355774001/',\n",
       " 'https://suumo.jp/chintai/bc_100355772568/',\n",
       " 'https://suumo.jp/chintai/bc_100355812659/',\n",
       " 'https://suumo.jp/chintai/bc_100355886782/',\n",
       " 'https://suumo.jp/chintai/bc_100355765598/',\n",
       " 'https://suumo.jp/chintai/bc_100355765604/',\n",
       " 'https://suumo.jp/chintai/bc_100355766624/',\n",
       " 'https://suumo.jp/chintai/bc_100355766619/',\n",
       " 'https://suumo.jp/chintai/bc_100355766622/',\n",
       " 'https://suumo.jp/chintai/bc_100355769034/',\n",
       " 'https://suumo.jp/chintai/bc_100355885882/',\n",
       " 'https://suumo.jp/chintai/bc_100355754620/',\n",
       " 'https://suumo.jp/chintai/bc_100355915415/',\n",
       " 'https://suumo.jp/chintai/bc_100355824767/',\n",
       " 'https://suumo.jp/chintai/bc_100355827978/',\n",
       " 'https://suumo.jp/chintai/bc_100355767865/',\n",
       " 'https://suumo.jp/chintai/bc_100355819158/',\n",
       " 'https://suumo.jp/chintai/bc_100355732845/',\n",
       " 'https://suumo.jp/chintai/bc_100355773992/',\n",
       " 'https://suumo.jp/chintai/bc_100355774038/',\n",
       " 'https://suumo.jp/chintai/bc_100355832817/',\n",
       " 'https://suumo.jp/chintai/bc_100355773862/',\n",
       " 'https://suumo.jp/chintai/bc_100355781231/',\n",
       " 'https://suumo.jp/chintai/bc_100355829163/',\n",
       " 'https://suumo.jp/chintai/bc_100355731164/',\n",
       " 'https://suumo.jp/chintai/bc_100355730203/',\n",
       " 'https://suumo.jp/chintai/bc_100355773854/',\n",
       " 'https://suumo.jp/chintai/bc_100355773979/',\n",
       " 'https://suumo.jp/chintai/bc_100352422925/',\n",
       " 'https://suumo.jp/chintai/bc_100355772575/',\n",
       " 'https://suumo.jp/chintai/bc_100355769475/',\n",
       " 'https://suumo.jp/chintai/bc_100353946252/',\n",
       " 'https://suumo.jp/chintai/bc_100355885896/',\n",
       " 'https://suumo.jp/chintai/bc_100355812515/',\n",
       " 'https://suumo.jp/chintai/bc_100355932511/',\n",
       " 'https://suumo.jp/chintai/bc_100355932482/']"
      ]
     },
     "execution_count": 596,
     "metadata": {},
     "output_type": "execute_result"
    }
   ],
   "source": [
    "detail_urls = []\n",
    "\n",
    "for href_tag in property:\n",
    "    link = href_tag.get('href')\n",
    "    link = 'https://suumo.jp'+ link #欠けているので追加\n",
    "    detail_urls.append(link)\n",
    "\n",
    "detail_urls\n"
   ]
  },
  {
   "cell_type": "code",
   "execution_count": 587,
   "metadata": {},
   "outputs": [],
   "source": [
    "property = soup2.find_all('a', class_=\"js-cassetLinkHref\")\n"
   ]
  },
  {
   "cell_type": "code",
   "execution_count": 586,
   "metadata": {},
   "outputs": [
    {
     "data": {
      "text/plain": [
       "['https://suumo.jp/chintai/jnc_000080299630/?bc=100346871399']"
      ]
     },
     "execution_count": 586,
     "metadata": {},
     "output_type": "execute_result"
    }
   ],
   "source": [
    "detail_urls\n"
   ]
  },
  {
   "cell_type": "code",
   "execution_count": null,
   "metadata": {},
   "outputs": [],
   "source": [
    "#家賃を取得する\n",
    "\n",
    "rents = soup2.find_all('div', class_=\"detailbox-property-point\") #classの指定で取得\n",
    "\n",
    "rent_amounts = []\n",
    "\n",
    "for div_tag in rents:\n",
    "    rent = div_tag.text.strip() #テキストだけ取得する\n",
    "    rent = rent.replace('万円', '') #万円を削除\n",
    "    rent = int(float(rent)*10000) #str、.があるのでfloatにしてからintに\n",
    "    rent_amounts.append(rent)\n",
    "\n",
    "rent_amounts\n"
   ]
  },
  {
   "cell_type": "code",
   "execution_count": null,
   "metadata": {},
   "outputs": [],
   "source": [
    "#管理費を取得する。classがないので家賃の次、という条件で取得（これでいいのか？）\n",
    "management_fees = []\n",
    "\n",
    "for div_tag2 in rents:\n",
    "  management_fee = div_tag2.find_next('div').text.strip()\n",
    "  if management_fee == \"-\": #０円の時は-になってる・・\n",
    "    management_fees.append(0) #ここがなぜかうまくいかない。ハイフンが認識されない\n",
    "  else:\n",
    "    management_fee = management_fee.replace(\"管理費 \", \"\").replace(\"円\", \"\") #管理費 20000円のようになるので不要分を削除\n",
    "    try:\n",
    "      management_fee = int(management_fee)\n",
    "      management_fees.append(management_fee)\n",
    "    except:\n",
    "      management_fees.append(0) #うまくいかないため、数値でない場合は０に\n",
    "\n",
    "management_fees\n"
   ]
  },
  {
   "cell_type": "markdown",
   "metadata": {},
   "source": [
    "物件名\n",
    "-住所\n",
    "-間取り\n",
    "家賃\n",
    "-階数"
   ]
  },
  {
   "cell_type": "code",
   "execution_count": null,
   "metadata": {},
   "outputs": [],
   "source": [
    "#やっぱり物件名も家賃も全て詳細のページから取得する。物件名はh1\n",
    "\n",
    "property =\n"
   ]
  },
  {
   "cell_type": "code",
   "execution_count": null,
   "metadata": {},
   "outputs": [],
   "source": []
  },
  {
   "cell_type": "code",
   "execution_count": 535,
   "metadata": {},
   "outputs": [],
   "source": [
    "#階の情報が詳細を見る野崎のページにしかないのでそこから取得する(住所、間取りも)\n",
    "\n",
    "\n",
    "REQUEST_URL2 = \"https://suumo.jp/chintai/bc_100355401564/\"\n",
    "#パークハウス三番町 - アエラス新橋店 (株)アエラス.ERが提供する賃貸物件情報\n",
    "\n",
    "\n",
    "url = requests.get(REQUEST_URL2)\n",
    "soup3 = BeautifulSoup(url.content, \"html.parser\")\n"
   ]
  },
  {
   "cell_type": "code",
   "execution_count": 545,
   "metadata": {},
   "outputs": [
    {
     "data": {
      "text/plain": [
       "'パークハウス三番町'"
      ]
     },
     "execution_count": 545,
     "metadata": {},
     "output_type": "execute_result"
    }
   ],
   "source": [
    "#やっぱり物件名も家賃も全て詳細のページから取得する。物件名はh1\n",
    "\n",
    "property = soup3.select_one('h1', class_=\"section_h1-header-title\") #h1\n",
    "\n",
    "for h1_tag in property:\n",
    "    if property:\n",
    "      property_text = property.text.strip()\n",
    "\n",
    "pos1 = property_text.find(' - ')  #区切のハイフンなどを目印にして抽出\n",
    "property_name = property_text[:pos1]\n",
    "property_name\n"
   ]
  },
  {
   "cell_type": "code",
   "execution_count": null,
   "metadata": {},
   "outputs": [],
   "source": []
  },
  {
   "cell_type": "code",
   "execution_count": 554,
   "metadata": {},
   "outputs": [
    {
     "data": {
      "text/plain": [
       "630000"
      ]
     },
     "execution_count": 554,
     "metadata": {},
     "output_type": "execute_result"
    }
   ],
   "source": [
    "rent = soup3.find_all('div', class_=\"property_view_main-emphasis\") #全く絞れないので、万円を含んでいるものだけを抽出する\n",
    "\n",
    "for div_tag in rent:\n",
    "  rent_number = div_tag.text.strip()\n",
    "  if \"万円\" in rent_number:\n",
    "    rent_number = rent_number.replace('万円', '') #万円を削除\n",
    "    rent_number = int(float(rent_number)*10000) #単位を円にする。小数点がついているのでfloat、からのint\n",
    "\n",
    "rent_number\n"
   ]
  },
  {
   "cell_type": "code",
   "execution_count": null,
   "metadata": {},
   "outputs": [],
   "source": []
  },
  {
   "cell_type": "code",
   "execution_count": 617,
   "metadata": {},
   "outputs": [
    {
     "name": "stdout",
     "output_type": "stream",
     "text": [
      "7階/8階建\n"
     ]
    },
    {
     "data": {
      "text/plain": [
       "7"
      ]
     },
     "execution_count": 617,
     "metadata": {},
     "output_type": "execute_result"
    }
   ],
   "source": [
    "#物件の詳細ページから階数を取得 下にある表から取得\n",
    "floor = soup3.find_all('th', class_=\"data_01\") #thのdata_01クラスで指定\n",
    "\n",
    "for th_tag in floor:\n",
    "    if th_tag.text.strip() == \"階建\": #classだけでは絞れなかったので文字が一致しているもので絞り込み\n",
    "        next_td = th_tag.find_next('td')\n",
    "        if next_td:\n",
    "            print(next_td.text.strip())\n",
    "            break\n",
    "\n",
    "#階以降を削除する\n",
    "\n",
    "floor_number = next_td.text.strip()\n",
    "pos2 = floor_number.find('階/') #階/までの文字数を取得\n",
    "floor_number = floor_number[:pos2]\n",
    "type(floor_number)    #型がstrの模様\n",
    "floor_number = int(floor_number) #int型に変える\n",
    "\n",
    "floor_number\n"
   ]
  },
  {
   "cell_type": "code",
   "execution_count": null,
   "metadata": {},
   "outputs": [],
   "source": []
  },
  {
   "cell_type": "code",
   "execution_count": 517,
   "metadata": {},
   "outputs": [
    {
     "data": {
      "text/plain": [
       "'東京都千代田区三番町'"
      ]
     },
     "execution_count": 517,
     "metadata": {},
     "output_type": "execute_result"
    }
   ],
   "source": [
    "#住所を取得\n",
    "\n",
    "location = soup3.find_all('span', class_=\"property_view_detail-header-title\")\n",
    "\n",
    "for div_tag in location:\n",
    "  if div_tag.text.strip() == \"所在地\":  #classだけでは絞れなかった\n",
    "    next_div = div_tag.find_next('div')\n",
    "    if next_div:\n",
    "      location = next_div.text.strip()\n",
    "      break\n",
    "\n",
    "location\n"
   ]
  },
  {
   "cell_type": "code",
   "execution_count": null,
   "metadata": {},
   "outputs": [],
   "source": []
  },
  {
   "cell_type": "code",
   "execution_count": 518,
   "metadata": {},
   "outputs": [
    {
     "data": {
      "text/plain": [
       "'3LDK'"
      ]
     },
     "execution_count": 518,
     "metadata": {},
     "output_type": "execute_result"
    }
   ],
   "source": [
    "#間取り\n",
    "\n",
    "floor_plan = soup3.find_all('div', class_=\"property_data-title\")\n",
    "\n",
    "for div_tag2 in floor_plan:\n",
    "  if div_tag2.text.strip() == \"間取り\":  #classだけでは絞れなかった\n",
    "    next_div2 = div_tag2.find_next('div')\n",
    "    if next_div2:\n",
    "      floor_plan = next_div2.text.strip()\n",
    "      break\n",
    "\n",
    "floor_plan   #全て取得完了\n"
   ]
  },
  {
   "cell_type": "code",
   "execution_count": null,
   "metadata": {},
   "outputs": [],
   "source": []
  },
  {
   "cell_type": "code",
   "execution_count": null,
   "metadata": {},
   "outputs": [],
   "source": [
    "<div class=\"property_data-title\">間取り</div>\n"
   ]
  },
  {
   "cell_type": "code",
   "execution_count": null,
   "metadata": {},
   "outputs": [],
   "source": [
    "key_money = soup.find('span', class_=\"property_view_note-emphasis\").find_next('span').find_next('span').find_next('span').get_text(strip = True)\n"
   ]
  },
  {
   "cell_type": "code",
   "execution_count": null,
   "metadata": {},
   "outputs": [],
   "source": [
    "<span class=\"property_view_detail-header-title\">所在地</span>\n"
   ]
  },
  {
   "cell_type": "code",
   "execution_count": null,
   "metadata": {},
   "outputs": [],
   "source": []
  },
  {
   "cell_type": "code",
   "execution_count": null,
   "metadata": {},
   "outputs": [],
   "source": []
  },
  {
   "cell_type": "code",
   "execution_count": 378,
   "metadata": {},
   "outputs": [],
   "source": [
    "#住所を取得する。（これも4つ先のtdで取得）\n",
    "\n",
    "locations = []\n",
    "\n",
    "for div_tag3 in rents:\n",
    "  management_fee = div_tag3.find_next('td').text.strip()\n",
    "  locations.append(location)\n"
   ]
  },
  {
   "cell_type": "code",
   "execution_count": null,
   "metadata": {},
   "outputs": [],
   "source": []
  },
  {
   "cell_type": "code",
   "execution_count": 102,
   "metadata": {},
   "outputs": [],
   "source": [
    "# Webページを取得して解析する\n",
    "REQUEST_URL = \"https://suumo.jp/chintai/jnc_000086641107/?bc=100355089468\"\n",
    "\n",
    "html = requests.get(REQUEST_URL)\n",
    "soup = BeautifulSoup(html.content, \"html.parser\")\n"
   ]
  },
  {
   "cell_type": "code",
   "execution_count": 179,
   "metadata": {},
   "outputs": [
    {
     "name": "stdout",
     "output_type": "stream",
     "text": [
      "【SUUMO】ラセーヌポンヌフ／東京都足立区入谷５／舎人駅の賃貸・部屋探し情報（000086641107） | 賃貸マンション・賃貸アパート\n"
     ]
    }
   ],
   "source": [
    "property_name = soup.find('title').text.strip()\n",
    "\n",
    "print(property_name)\n"
   ]
  },
  {
   "cell_type": "code",
   "execution_count": 181,
   "metadata": {},
   "outputs": [
    {
     "name": "stdout",
     "output_type": "stream",
     "text": [
      "ラセーヌポンヌフ\n"
     ]
    }
   ],
   "source": [
    "# 【SUUMO】 ／で囲まれた文字列を抽出する。他にも／はあるけど大丈夫かな・・・\n",
    "import re\n",
    "\n",
    "s = property_name\n",
    "pattern = r'\\【SUUMO】(.+?)\\／'  # []で囲まれた文字列を抽出する正規表現\n",
    "match = re.search(pattern, s)\n",
    "if match:\n",
    "    captured = match.group(1)\n",
    "    print(captured)\n"
   ]
  },
  {
   "cell_type": "code",
   "execution_count": 103,
   "metadata": {},
   "outputs": [
    {
     "name": "stdout",
     "output_type": "stream",
     "text": [
      "管理費・共益費: 5500円\n"
     ]
    }
   ],
   "source": [
    "fee = (soup.find('span', class_=\"property_view_note-emphasis\").find_next('span')).get_text(strip = True) #家賃の隣にある管理費・共益費を取得\n",
    "\n",
    "print(fee)\n"
   ]
  },
  {
   "cell_type": "code",
   "execution_count": 104,
   "metadata": {},
   "outputs": [
    {
     "name": "stdout",
     "output_type": "stream",
     "text": [
      "<class 'int'>\n"
     ]
    }
   ],
   "source": [
    "replaced_fee = deposit.replace('管理費・共益費:', '').replace('\\xa0', '').replace('円', '') #不要な文字を削除\n",
    "replaced_fee = int(replaced_deposit) #int型に変換\n",
    "print(type(replaced_fee))\n"
   ]
  },
  {
   "cell_type": "code",
   "execution_count": 182,
   "metadata": {},
   "outputs": [
    {
     "data": {
      "text/plain": [
       "'敷金:\\xa0-'"
      ]
     },
     "execution_count": 182,
     "metadata": {},
     "output_type": "execute_result"
    }
   ],
   "source": [
    "#敷金のデータを取得する\n",
    "sec_dep = (soup.find('span', class_=\"property_view_note-emphasis\").find_next('span').find_next('span')).get_text(strip = True) #家賃の次の次\n",
    "\n",
    "sec_dep\n"
   ]
  },
  {
   "cell_type": "code",
   "execution_count": 183,
   "metadata": {},
   "outputs": [
    {
     "ename": "ValueError",
     "evalue": "invalid literal for int() with base 10: '-'",
     "output_type": "error",
     "traceback": [
      "\u001b[0;31m---------------------------------------------------------------------------\u001b[0m",
      "\u001b[0;31mValueError\u001b[0m                                Traceback (most recent call last)",
      "\u001b[1;32m/Users/Hironori/Python.py/SUUMO.ipynb セル 8\u001b[0m line \u001b[0;36m2\n\u001b[1;32m      <a href='vscode-notebook-cell:/Users/Hironori/Python.py/SUUMO.ipynb#X16sZmlsZQ%3D%3D?line=0'>1</a>\u001b[0m replaced_sec_dep \u001b[39m=\u001b[39m sec_dep\u001b[39m.\u001b[39mreplace(\u001b[39m'\u001b[39m\u001b[39m敷金:\u001b[39m\u001b[39m'\u001b[39m, \u001b[39m'\u001b[39m\u001b[39m'\u001b[39m)\u001b[39m.\u001b[39mreplace(\u001b[39m'\u001b[39m\u001b[39m\\xa0\u001b[39;00m\u001b[39m'\u001b[39m, \u001b[39m'\u001b[39m\u001b[39m'\u001b[39m)\u001b[39m.\u001b[39mreplace(\u001b[39m'\u001b[39m\u001b[39m.\u001b[39m\u001b[39m'\u001b[39m, \u001b[39m'\u001b[39m\u001b[39m'\u001b[39m)\u001b[39m.\u001b[39mreplace(\u001b[39m'\u001b[39m\u001b[39m万円\u001b[39m\u001b[39m'\u001b[39m, \u001b[39m'\u001b[39m\u001b[39m'\u001b[39m) \u001b[39m#「.」も文字型なので削除\u001b[39;00m\n\u001b[0;32m----> <a href='vscode-notebook-cell:/Users/Hironori/Python.py/SUUMO.ipynb#X16sZmlsZQ%3D%3D?line=1'>2</a>\u001b[0m replaced_sec_dep \u001b[39m=\u001b[39m (\u001b[39mint\u001b[39;49m(replaced_sec_dep))\u001b[39m*\u001b[39m\u001b[39m1000\u001b[39m \u001b[39m#int型にして1000をかけて数値に変換\u001b[39;00m\n\u001b[1;32m      <a href='vscode-notebook-cell:/Users/Hironori/Python.py/SUUMO.ipynb#X16sZmlsZQ%3D%3D?line=2'>3</a>\u001b[0m replaced_sec_dep\n",
      "\u001b[0;31mValueError\u001b[0m: invalid literal for int() with base 10: '-'"
     ]
    }
   ],
   "source": [
    "replaced_sec_dep = sec_dep.replace('敷金:', '').replace('\\xa0', '').replace('.', '').replace('万円', '') #「.」も文字型なので削除\n",
    "replaced_sec_dep = (int(replaced_sec_dep))*1000 #int型にして1000をかけて数値に変換\n",
    "replaced_sec_dep\n"
   ]
  },
  {
   "cell_type": "code",
   "execution_count": 107,
   "metadata": {},
   "outputs": [
    {
     "data": {
      "text/plain": [
       "'礼金:\\xa08.9万円'"
      ]
     },
     "execution_count": 107,
     "metadata": {},
     "output_type": "execute_result"
    }
   ],
   "source": [
    "#礼金も同様に取得\n",
    "key_money = soup.find('span', class_=\"property_view_note-emphasis\").find_next('span').find_next('span').find_next('span').get_text(strip = True)\n",
    "\n",
    "key_money\n"
   ]
  },
  {
   "cell_type": "code",
   "execution_count": 127,
   "metadata": {},
   "outputs": [
    {
     "data": {
      "text/plain": [
       "'8.9万円'"
      ]
     },
     "execution_count": 127,
     "metadata": {},
     "output_type": "execute_result"
    }
   ],
   "source": [
    "replaced_key_money = key_money.replace('礼金:', '').replace('\\xa0', '')\n",
    "replaced_key_money\n"
   ]
  },
  {
   "cell_type": "code",
   "execution_count": 129,
   "metadata": {},
   "outputs": [
    {
     "name": "stdout",
     "output_type": "stream",
     "text": [
      "89000\n"
     ]
    }
   ],
   "source": [
    "if replaced_key_money == '-':\n",
    "  replaced_key_money=replaced_key_money.replace('-', '0')\n",
    "  replaced_key_money= int(replaced_key_money)\n",
    "else:\n",
    "  replaced_key_money = str(replaced_key_money).replace('.', '').replace('万円', '')\n",
    "  replaced_key_money = (int(replaced_key_money))*1000\n",
    "  print(replaced_key_money)\n"
   ]
  },
  {
   "cell_type": "code",
   "execution_count": 130,
   "metadata": {},
   "outputs": [
    {
     "name": "stdout",
     "output_type": "stream",
     "text": [
      "0\n"
     ]
    }
   ],
   "source": [
    "#保証金も同様に\n",
    "\n",
    "deposit = soup.find('span', class_=\"property_view_note-emphasis\").find_next('span').find_next('span').find_next('span').find_next('span').get_text(strip = True)\n",
    "\n",
    "deposit = deposit.replace('保証金:', '').replace('\\xa0', '') #不要な文字を削除\n",
    "\n",
    "#0円の時は-なのでそれを変換する。あるいは単位を万円から縁に変換するよう計算\n",
    "if deposit == '-':\n",
    "  deposit=deposit.replace('-', '0')\n",
    "  deposit = int(deposit)\n",
    "  print(deposit)\n",
    "else:\n",
    "  deposit = str(deposit).replace('.', '').replace('万円', '')\n",
    "  deposit = (int(deposit))*1000\n",
    "  print(deposit)\n"
   ]
  },
  {
   "cell_type": "code",
   "execution_count": 133,
   "metadata": {},
   "outputs": [
    {
     "name": "stdout",
     "output_type": "stream",
     "text": [
      "0\n"
     ]
    }
   ],
   "source": [
    "#敷引・償却\n",
    "\n",
    "depre = soup.find('span', class_=\"property_view_note-emphasis\").find_next('span').find_next('span').find_next('span').find_next('span').find_next('span').get_text(strip = True)\n",
    "\n",
    "depre = depre.replace('敷引・償却:', '').replace('\\xa0', '') #不要な文字を削除\n",
    "\n",
    "#0円の時は-なのでそれを変換する。あるいは単位を万円から縁に変換するよう計算\n",
    "if depre == '-':\n",
    "  depre = depre.replace('-', '0')\n",
    "  depre = int(deposit)\n",
    "  print(depre)\n",
    "else:\n",
    "  depre = str(depre).replace('.', '').replace('万円', '')\n",
    "  depre = (int(depre))*1000\n",
    "  print(depre)\n"
   ]
  },
  {
   "cell_type": "code",
   "execution_count": 135,
   "metadata": {},
   "outputs": [
    {
     "data": {
      "text/plain": [
       "'東京都足立区入谷５'"
      ]
     },
     "execution_count": 135,
     "metadata": {},
     "output_type": "execute_result"
    }
   ],
   "source": [
    "#下の表から住所を取得\n",
    "\n",
    "location = (soup.find('th', string='所在地').find_next('td')).text.strip()\n",
    "\n",
    "location\n"
   ]
  },
  {
   "cell_type": "code",
   "execution_count": 136,
   "metadata": {},
   "outputs": [
    {
     "data": {
      "text/plain": [
       "'1LDK'"
      ]
     },
     "execution_count": 136,
     "metadata": {},
     "output_type": "execute_result"
    }
   ],
   "source": [
    "#下の表から間取りを取得\n",
    "floor_plan = (soup.find('th', string='間取り').find_next('td')).text.strip()\n",
    "\n",
    "floor_plan\n"
   ]
  },
  {
   "cell_type": "code",
   "execution_count": 138,
   "metadata": {},
   "outputs": [
    {
     "data": {
      "text/plain": [
       "'5'"
      ]
     },
     "execution_count": 138,
     "metadata": {},
     "output_type": "execute_result"
    }
   ],
   "source": [
    "#下の表から階を取得\n",
    "floor= (soup.find('th', string='階').find_next('td')).text.strip().replace('階', '')\n",
    "\n",
    "floor\n"
   ]
  },
  {
   "cell_type": "code",
   "execution_count": null,
   "metadata": {},
   "outputs": [],
   "source": []
  },
  {
   "cell_type": "code",
   "execution_count": 53,
   "metadata": {},
   "outputs": [
    {
     "ename": "SyntaxError",
     "evalue": "invalid syntax (3647102302.py, line 1)",
     "output_type": "error",
     "traceback": [
      "\u001b[0;36m  Cell \u001b[0;32mIn[53], line 1\u001b[0;36m\u001b[0m\n\u001b[0;31m    properties = soup.find('', ='', class = '')\u001b[0m\n\u001b[0m                               ^\u001b[0m\n\u001b[0;31mSyntaxError\u001b[0m\u001b[0;31m:\u001b[0m invalid syntax\n"
     ]
    }
   ],
   "source": [
    "#リンク先のURLを取得する\n",
    "\n",
    "properties = soup.find('', ='', class = '')\n",
    "a_tag = properties.find_all('a')\n",
    "print([x['heref'] for x in a_tag])\n"
   ]
  },
  {
   "cell_type": "code",
   "execution_count": 54,
   "metadata": {},
   "outputs": [
    {
     "ename": "NameError",
     "evalue": "name '物件名' is not defined",
     "output_type": "error",
     "traceback": [
      "\u001b[0;31m---------------------------------------------------------------------------\u001b[0m",
      "\u001b[0;31mNameError\u001b[0m                                 Traceback (most recent call last)",
      "\u001b[1;32mUntitled-1.ipynb セル 6\u001b[0m line \u001b[0;36m1\n\u001b[0;32m----> <a href='vscode-notebook-cell:Untitled-1.ipynb?jupyter-notebook#W5sdW50aXRsZWQ%3D?line=0'>1</a>\u001b[0m 物件名\n\u001b[1;32m      <a href='vscode-notebook-cell:Untitled-1.ipynb?jupyter-notebook#W5sdW50aXRsZWQ%3D?line=1'>2</a>\u001b[0m \u001b[39m-\u001b[39m住所\n\u001b[1;32m      <a href='vscode-notebook-cell:Untitled-1.ipynb?jupyter-notebook#W5sdW50aXRsZWQ%3D?line=2'>3</a>\u001b[0m \u001b[39m-\u001b[39m間取り\n",
      "\u001b[0;31mNameError\u001b[0m: name '物件名' is not defined"
     ]
    }
   ],
   "source": [
    "物件名\n",
    "-住所\n",
    "-間取り\n",
    "-家賃\n",
    "-階数\n"
   ]
  },
  {
   "cell_type": "markdown",
   "metadata": {},
   "source": []
  },
  {
   "cell_type": "markdown",
   "metadata": {},
   "source": [
    "検索結果から詳細を見る　のリンクを抽出する"
   ]
  },
  {
   "cell_type": "code",
   "execution_count": 225,
   "metadata": {},
   "outputs": [],
   "source": [
    "RESULT_URL = \"https://suumo.jp/jj/chintai/ichiran/FR301FC001/?ar=030&bs=040&pc=30&smk=&po1=25&po2=99&shkr1=03&shkr2=03&shkr3=03&shkr4=03&sc=13121&ta=13&cb=0.0&ct=8.0&co=1&co=3&co=4&ts=1&ts=3&et=7&mb=0&mt=9999999&cn=5&tc=0400301&tc=0400501&fw2=\"\n",
    "\n",
    "page = requests.get(RESULT_URL)\n",
    "soup2 = BeautifulSoup(page.content, \"html.parser\")\n"
   ]
  },
  {
   "cell_type": "code",
   "execution_count": null,
   "metadata": {},
   "outputs": [],
   "source": [
    "result = soup2.find_all('a', class_=\"js-cassette_link_href cassetteitem_other-linktext\" )\n",
    "result\n"
   ]
  },
  {
   "cell_type": "code",
   "execution_count": 243,
   "metadata": {},
   "outputs": [
    {
     "data": {
      "text/plain": [
       "57"
      ]
     },
     "execution_count": 243,
     "metadata": {},
     "output_type": "execute_result"
    }
   ],
   "source": [
    "len(result)\n"
   ]
  },
  {
   "cell_type": "code",
   "execution_count": 247,
   "metadata": {},
   "outputs": [],
   "source": [
    "property_links = []\n",
    "for i in range(len(result)):\n",
    "  try:\n",
    "    link = result[i].get(\"href\")\n",
    "    link = 'https://suumo.jp'+link\n",
    "    property_links.append(link)\n",
    "  except:\n",
    "    pass\n"
   ]
  },
  {
   "cell_type": "code",
   "execution_count": 248,
   "metadata": {},
   "outputs": [
    {
     "data": {
      "text/plain": [
       "['https://suumo.jp/chintai/jnc_000058305180/?bc=100354154893',\n",
       " 'https://suumo.jp/chintai/jnc_000068023052/?bc=100354682823',\n",
       " 'https://suumo.jp/chintai/jnc_000084251523/?bc=100352100611',\n",
       " 'https://suumo.jp/chintai/jnc_000086543359/?bc=100355408502',\n",
       " 'https://suumo.jp/chintai/jnc_000071408422/?bc=100352689248',\n",
       " 'https://suumo.jp/chintai/jnc_000080292179/?bc=100320294815',\n",
       " 'https://suumo.jp/chintai/jnc_000080292180/?bc=100354549975',\n",
       " 'https://suumo.jp/chintai/jnc_000080292189/?bc=100315942525',\n",
       " 'https://suumo.jp/chintai/jnc_000086380170/?bc=100346561786',\n",
       " 'https://suumo.jp/chintai/jnc_000086543308/?bc=100354600084',\n",
       " 'https://suumo.jp/chintai/jnc_000086635132/?bc=100349884938',\n",
       " 'https://suumo.jp/chintai/jnc_000086416638/?bc=100355462152',\n",
       " 'https://suumo.jp/chintai/jnc_000086472475/?bc=100354786630',\n",
       " 'https://suumo.jp/chintai/jnc_000086399807/?bc=100346561692',\n",
       " 'https://suumo.jp/chintai/jnc_000086590453/?bc=100354651440',\n",
       " 'https://suumo.jp/chintai/jnc_000086548445/?bc=100346420482',\n",
       " 'https://suumo.jp/chintai/jnc_000086399808/?bc=100354130420',\n",
       " 'https://suumo.jp/chintai/jnc_000086479992/?bc=100351955855',\n",
       " 'https://suumo.jp/chintai/jnc_000086556203/?bc=100354520379',\n",
       " 'https://suumo.jp/chintai/jnc_000086598877/?bc=100354520381',\n",
       " 'https://suumo.jp/chintai/jnc_000086548446/?bc=100354183447',\n",
       " 'https://suumo.jp/chintai/jnc_000085087620/?bc=100348191505',\n",
       " 'https://suumo.jp/chintai/jnc_000085087619/?bc=100348191555',\n",
       " 'https://suumo.jp/chintai/jnc_000083473997/?bc=100348191491',\n",
       " 'https://suumo.jp/chintai/jnc_000086246654/?bc=100348314961',\n",
       " 'https://suumo.jp/chintai/jnc_000081362789/?bc=100317229829',\n",
       " 'https://suumo.jp/chintai/jnc_000086148552/?bc=100351597042',\n",
       " 'https://suumo.jp/chintai/jnc_000058323022/?bc=100352305094',\n",
       " 'https://suumo.jp/chintai/jnc_000086517348/?bc=100354680063',\n",
       " 'https://suumo.jp/chintai/jnc_000071383461/?bc=100352928617',\n",
       " 'https://suumo.jp/chintai/jnc_000085740302/?bc=100354601421',\n",
       " 'https://suumo.jp/chintai/jnc_000080299620/?bc=100353792499',\n",
       " 'https://suumo.jp/chintai/jnc_000080299630/?bc=100346871399',\n",
       " 'https://suumo.jp/chintai/jnc_000080299621/?bc=100354674770',\n",
       " 'https://suumo.jp/chintai/jnc_000068023036/?bc=100345173841',\n",
       " 'https://suumo.jp/chintai/jnc_000075048856/?bc=100349584774',\n",
       " 'https://suumo.jp/chintai/jnc_000057623760/?bc=100354347304',\n",
       " 'https://suumo.jp/chintai/jnc_000080418604/?bc=100344467395',\n",
       " 'https://suumo.jp/chintai/jnc_000057662958/?bc=100349839694',\n",
       " 'https://suumo.jp/chintai/jnc_000057662961/?bc=100349690512',\n",
       " 'https://suumo.jp/chintai/jnc_000086681203/?bc=100355096988',\n",
       " 'https://suumo.jp/chintai/jnc_000078488585/?bc=100348185054',\n",
       " 'https://suumo.jp/chintai/jnc_000070610134/?bc=100258539334',\n",
       " 'https://suumo.jp/chintai/jnc_000081413302/?bc=100322232255',\n",
       " 'https://suumo.jp/chintai/jnc_000086160666/?bc=100351961890',\n",
       " 'https://suumo.jp/chintai/jnc_000085617974/?bc=100350140618',\n",
       " 'https://suumo.jp/chintai/jnc_000078476366/?bc=100349011944',\n",
       " 'https://suumo.jp/chintai/jnc_000078476368/?bc=100345287737',\n",
       " 'https://suumo.jp/chintai/jnc_000078476374/?bc=100352049379',\n",
       " 'https://suumo.jp/chintai/jnc_000078488573/?bc=100323825611',\n",
       " 'https://suumo.jp/chintai/jnc_000078488575/?bc=100345243582',\n",
       " 'https://suumo.jp/chintai/jnc_000078488581/?bc=100351957802',\n",
       " 'https://suumo.jp/chintai/jnc_000085527657/?bc=100351564949',\n",
       " 'https://suumo.jp/chintai/jnc_000085527658/?bc=100347177614',\n",
       " 'https://suumo.jp/chintai/jnc_000086510453/?bc=100353930300',\n",
       " 'https://suumo.jp/chintai/jnc_000080418613/?bc=100345797830',\n",
       " 'https://suumo.jp/chintai/jnc_000078476378/?bc=100351854623']"
      ]
     },
     "execution_count": 248,
     "metadata": {},
     "output_type": "execute_result"
    }
   ],
   "source": [
    "property_links\n"
   ]
  },
  {
   "cell_type": "code",
   "execution_count": null,
   "metadata": {},
   "outputs": [],
   "source": [
    "#結果のページ数を取得\n"
   ]
  },
  {
   "cell_type": "code",
   "execution_count": null,
   "metadata": {},
   "outputs": [],
   "source": []
  }
 ],
 "metadata": {
  "kernelspec": {
   "display_name": "myenvlearn",
   "language": "python",
   "name": "python3"
  },
  "language_info": {
   "codemirror_mode": {
    "name": "ipython",
    "version": 3
   },
   "file_extension": ".py",
   "mimetype": "text/x-python",
   "name": "python",
   "nbconvert_exporter": "python",
   "pygments_lexer": "ipython3",
   "version": "3.9.18"
  }
 },
 "nbformat": 4,
 "nbformat_minor": 2
}
